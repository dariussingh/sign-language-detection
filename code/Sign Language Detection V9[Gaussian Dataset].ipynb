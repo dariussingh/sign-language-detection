{
 "cells": [
  {
   "cell_type": "markdown",
   "id": "1e64038c",
   "metadata": {},
   "source": [
    "# Sign Language Detection V9\n"
   ]
  },
  {
   "cell_type": "markdown",
   "id": "d6ce1062",
   "metadata": {},
   "source": [
    "## Data and Preprocessing "
   ]
  },
  {
   "cell_type": "code",
   "execution_count": 1,
   "id": "e66211d7",
   "metadata": {},
   "outputs": [
    {
     "name": "stdout",
     "output_type": "stream",
     "text": [
      "GPU found\n"
     ]
    }
   ],
   "source": [
    "# tensor flow with gpu\n",
    "\n",
    "import os\n",
    "import tensorflow as tf\n",
    "\n",
    "os.environ['CUDA_VISIBLE_DEVICES'] = '0' # 0 for GPU\n",
    "                                         # -1 for CPU\n",
    "if tf.test.gpu_device_name():\n",
    "    print('GPU found')\n",
    "else:\n",
    "    print(\"No GPU found\")"
   ]
  },
  {
   "cell_type": "code",
   "execution_count": 2,
   "id": "6afb84dc",
   "metadata": {},
   "outputs": [],
   "source": [
    "# importing dependencies\n",
    "\n",
    "import numpy as np  # linear algebra\n",
    "import pandas as pd  # dataset handling\n",
    "import matplotlib.pyplot as plt # plotting\n",
    "import seaborn as sns\n",
    "import tensorflow as tf # tensorflow\n",
    "import cv2 # computer vision\n",
    "import os # interacting with the operating system\n",
    "\n",
    "from tensorflow.keras import Sequential # squential neural network\n",
    "from tensorflow.keras.layers import Conv2D  # convolutional layer\n",
    "from tensorflow.keras.layers import MaxPool2D  # pooling layer\n",
    "from tensorflow.keras.layers import Dense # feed forward layer\n",
    "from tensorflow.keras.layers import Flatten # flatten 2d/3d array into 1d array\n",
    "from tensorflow.keras.layers import Dropout # print overfitting\n",
    "from tensorflow.keras.callbacks import EarlyStopping # early stopping to reduce overfitting\n",
    "from tensorflow.keras.utils import plot_model # plot model architecture\n",
    "from tensorflow.keras.models import load_model # loading saved model\n",
    "\n",
    "from sklearn.preprocessing import LabelEncoder # add placeholder values for categorical variables\n",
    "from sklearn.model_selection import train_test_split # split dataset into training and testing dataset\n",
    "from sklearn.metrics import accuracy_score, confusion_matrix, classification_report # performance metrics"
   ]
  },
  {
   "cell_type": "markdown",
   "id": "0d7974a0",
   "metadata": {},
   "source": [
    "### Train data"
   ]
  },
  {
   "cell_type": "code",
   "execution_count": 3,
   "id": "02b3a90e",
   "metadata": {},
   "outputs": [],
   "source": [
    "# extracting files, images and labels \n",
    "\n",
    "train_path = r'C:\\Users\\dariu\\Jupyter_Notebook\\Sign Language Detection\\Gaussian_dataset\\train'\n",
    "\n",
    "filename_list = []\n",
    "image_list = []\n",
    "label_list = []\n",
    "labels = ['A', 'B', 'C', 'D', 'E', 'F', 'G', 'H', 'I', 'J', 'K', 'L', 'M', 'N', 'O', 'P', 'Q', 'R', 'S', 'T', 'U', 'V', 'W', 'X', 'Y', 'Z']\n",
    "for label in labels:\n",
    "    for filename in os.listdir(train_path+f'\\\\{label}'):\n",
    "        file_path = train_path+f'\\\\{label}'+f'\\\\{filename}'\n",
    "        letter = label\n",
    "        image = cv2.imread(file_path)\n",
    "        filename_list.append(filename)\n",
    "        image_list.append(image)\n",
    "        label_list.append(letter)"
   ]
  },
  {
   "cell_type": "code",
   "execution_count": 4,
   "id": "e1d18693",
   "metadata": {},
   "outputs": [
    {
     "name": "stdout",
     "output_type": "stream",
     "text": [
      "(37198, 3)\n"
     ]
    },
    {
     "data": {
      "text/html": [
       "<div>\n",
       "<style scoped>\n",
       "    .dataframe tbody tr th:only-of-type {\n",
       "        vertical-align: middle;\n",
       "    }\n",
       "\n",
       "    .dataframe tbody tr th {\n",
       "        vertical-align: top;\n",
       "    }\n",
       "\n",
       "    .dataframe thead th {\n",
       "        text-align: right;\n",
       "    }\n",
       "</style>\n",
       "<table border=\"1\" class=\"dataframe\">\n",
       "  <thead>\n",
       "    <tr style=\"text-align: right;\">\n",
       "      <th></th>\n",
       "      <th>filename</th>\n",
       "      <th>label</th>\n",
       "      <th>image</th>\n",
       "    </tr>\n",
       "  </thead>\n",
       "  <tbody>\n",
       "    <tr>\n",
       "      <th>0</th>\n",
       "      <td>0.jpg</td>\n",
       "      <td>A</td>\n",
       "      <td>[[[255, 255, 255], [255, 255, 255], [255, 255,...</td>\n",
       "    </tr>\n",
       "    <tr>\n",
       "      <th>1</th>\n",
       "      <td>1.jpg</td>\n",
       "      <td>A</td>\n",
       "      <td>[[[255, 255, 255], [255, 255, 255], [255, 255,...</td>\n",
       "    </tr>\n",
       "    <tr>\n",
       "      <th>2</th>\n",
       "      <td>10.jpg</td>\n",
       "      <td>A</td>\n",
       "      <td>[[[255, 255, 255], [255, 255, 255], [255, 255,...</td>\n",
       "    </tr>\n",
       "    <tr>\n",
       "      <th>3</th>\n",
       "      <td>100.jpg</td>\n",
       "      <td>A</td>\n",
       "      <td>[[[255, 255, 255], [255, 255, 255], [255, 255,...</td>\n",
       "    </tr>\n",
       "    <tr>\n",
       "      <th>4</th>\n",
       "      <td>1001.jpg</td>\n",
       "      <td>A</td>\n",
       "      <td>[[[255, 255, 255], [255, 255, 255], [255, 255,...</td>\n",
       "    </tr>\n",
       "  </tbody>\n",
       "</table>\n",
       "</div>"
      ],
      "text/plain": [
       "   filename label                                              image\n",
       "0     0.jpg     A  [[[255, 255, 255], [255, 255, 255], [255, 255,...\n",
       "1     1.jpg     A  [[[255, 255, 255], [255, 255, 255], [255, 255,...\n",
       "2    10.jpg     A  [[[255, 255, 255], [255, 255, 255], [255, 255,...\n",
       "3   100.jpg     A  [[[255, 255, 255], [255, 255, 255], [255, 255,...\n",
       "4  1001.jpg     A  [[[255, 255, 255], [255, 255, 255], [255, 255,..."
      ]
     },
     "execution_count": 4,
     "metadata": {},
     "output_type": "execute_result"
    }
   ],
   "source": [
    "# creating meta dataset contiaing filenames, labels, and image\n",
    "\n",
    "meta_data = pd.DataFrame({'filename':filename_list, 'label':label_list, 'image':image_list})\n",
    "print(meta_data.shape)\n",
    "meta_data.head()"
   ]
  },
  {
   "cell_type": "code",
   "execution_count": 5,
   "id": "cfc5ce55",
   "metadata": {
    "scrolled": false
   },
   "outputs": [
    {
     "data": {
      "text/plain": [
       "M    1435\n",
       "N    1434\n",
       "J    1434\n",
       "D    1432\n",
       "F    1431\n",
       "X    1431\n",
       "Q    1431\n",
       "S    1430\n",
       "O    1430\n",
       "L    1430\n",
       "K    1430\n",
       "E    1430\n",
       "Y    1430\n",
       "V    1430\n",
       "I    1430\n",
       "W    1430\n",
       "C    1430\n",
       "Z    1430\n",
       "P    1430\n",
       "R    1430\n",
       "T    1430\n",
       "A    1430\n",
       "B    1430\n",
       "G    1430\n",
       "H    1430\n",
       "U    1430\n",
       "Name: label, dtype: int64"
      ]
     },
     "execution_count": 5,
     "metadata": {},
     "output_type": "execute_result"
    }
   ],
   "source": [
    "# number of of samples per letter (category)\n",
    "\n",
    "meta_data['label'].value_counts()"
   ]
  },
  {
   "cell_type": "code",
   "execution_count": 6,
   "id": "851aa25b",
   "metadata": {},
   "outputs": [
    {
     "data": {
      "text/html": [
       "<div>\n",
       "<style scoped>\n",
       "    .dataframe tbody tr th:only-of-type {\n",
       "        vertical-align: middle;\n",
       "    }\n",
       "\n",
       "    .dataframe tbody tr th {\n",
       "        vertical-align: top;\n",
       "    }\n",
       "\n",
       "    .dataframe thead th {\n",
       "        text-align: right;\n",
       "    }\n",
       "</style>\n",
       "<table border=\"1\" class=\"dataframe\">\n",
       "  <thead>\n",
       "    <tr style=\"text-align: right;\">\n",
       "      <th></th>\n",
       "      <th>filename</th>\n",
       "      <th>label</th>\n",
       "      <th>image</th>\n",
       "    </tr>\n",
       "  </thead>\n",
       "  <tbody>\n",
       "    <tr>\n",
       "      <th>0</th>\n",
       "      <td>1163.jpg</td>\n",
       "      <td>O</td>\n",
       "      <td>[[[255, 255, 255], [255, 255, 255], [255, 255,...</td>\n",
       "    </tr>\n",
       "    <tr>\n",
       "      <th>1</th>\n",
       "      <td>854.jpg</td>\n",
       "      <td>P</td>\n",
       "      <td>[[[255, 255, 255], [255, 255, 255], [255, 255,...</td>\n",
       "    </tr>\n",
       "    <tr>\n",
       "      <th>2</th>\n",
       "      <td>1576.jpg</td>\n",
       "      <td>C</td>\n",
       "      <td>[[[255, 255, 255], [255, 255, 255], [255, 255,...</td>\n",
       "    </tr>\n",
       "    <tr>\n",
       "      <th>3</th>\n",
       "      <td>501.jpg</td>\n",
       "      <td>P</td>\n",
       "      <td>[[[255, 255, 255], [255, 255, 255], [255, 255,...</td>\n",
       "    </tr>\n",
       "    <tr>\n",
       "      <th>4</th>\n",
       "      <td>1730.jpg</td>\n",
       "      <td>F</td>\n",
       "      <td>[[[255, 255, 255], [255, 255, 255], [255, 255,...</td>\n",
       "    </tr>\n",
       "  </tbody>\n",
       "</table>\n",
       "</div>"
      ],
      "text/plain": [
       "   filename label                                              image\n",
       "0  1163.jpg     O  [[[255, 255, 255], [255, 255, 255], [255, 255,...\n",
       "1   854.jpg     P  [[[255, 255, 255], [255, 255, 255], [255, 255,...\n",
       "2  1576.jpg     C  [[[255, 255, 255], [255, 255, 255], [255, 255,...\n",
       "3   501.jpg     P  [[[255, 255, 255], [255, 255, 255], [255, 255,...\n",
       "4  1730.jpg     F  [[[255, 255, 255], [255, 255, 255], [255, 255,..."
      ]
     },
     "execution_count": 6,
     "metadata": {},
     "output_type": "execute_result"
    }
   ],
   "source": [
    "# shuffling meta dataset\n",
    "\n",
    "meta_data =meta_data.sample(frac=1).reset_index(drop=True)\n",
    "meta_data.head()"
   ]
  },
  {
   "cell_type": "code",
   "execution_count": 7,
   "id": "bafbf31e",
   "metadata": {},
   "outputs": [],
   "source": [
    "# function that preprocesses the data\n",
    "\n",
    "def preprocess_image(image):\n",
    "    \"\"\"Takes in image array as input and returns resized and scaled image\"\"\"\n",
    "    image = cv2.resize(image, (64,64))\n",
    "    image = cv2.cvtColor(image, cv2.COLOR_BGR2GRAY)\n",
    "    image = image.reshape(64,64,1)\n",
    "    image = image.astype('float32')/255.0\n",
    "    return image"
   ]
  },
  {
   "cell_type": "code",
   "execution_count": 8,
   "id": "44a36855",
   "metadata": {},
   "outputs": [],
   "source": [
    "# preprocessing the images\n",
    "\n",
    "preprocessed_image_list = []\n",
    "for image in meta_data['image']:\n",
    "    img = preprocess_image(image)\n",
    "    preprocessed_image_list.append(img)"
   ]
  },
  {
   "cell_type": "code",
   "execution_count": 9,
   "id": "6859969d",
   "metadata": {},
   "outputs": [
    {
     "data": {
      "text/html": [
       "<div>\n",
       "<style scoped>\n",
       "    .dataframe tbody tr th:only-of-type {\n",
       "        vertical-align: middle;\n",
       "    }\n",
       "\n",
       "    .dataframe tbody tr th {\n",
       "        vertical-align: top;\n",
       "    }\n",
       "\n",
       "    .dataframe thead th {\n",
       "        text-align: right;\n",
       "    }\n",
       "</style>\n",
       "<table border=\"1\" class=\"dataframe\">\n",
       "  <thead>\n",
       "    <tr style=\"text-align: right;\">\n",
       "      <th></th>\n",
       "      <th>filename</th>\n",
       "      <th>label</th>\n",
       "      <th>image</th>\n",
       "      <th>preprocessed_image</th>\n",
       "    </tr>\n",
       "  </thead>\n",
       "  <tbody>\n",
       "    <tr>\n",
       "      <th>0</th>\n",
       "      <td>1163.jpg</td>\n",
       "      <td>O</td>\n",
       "      <td>[[[255, 255, 255], [255, 255, 255], [255, 255,...</td>\n",
       "      <td>[[[1.0], [1.0], [1.0], [1.0], [1.0], [1.0], [1...</td>\n",
       "    </tr>\n",
       "    <tr>\n",
       "      <th>1</th>\n",
       "      <td>854.jpg</td>\n",
       "      <td>P</td>\n",
       "      <td>[[[255, 255, 255], [255, 255, 255], [255, 255,...</td>\n",
       "      <td>[[[1.0], [1.0], [1.0], [1.0], [1.0], [0.996078...</td>\n",
       "    </tr>\n",
       "    <tr>\n",
       "      <th>2</th>\n",
       "      <td>1576.jpg</td>\n",
       "      <td>C</td>\n",
       "      <td>[[[255, 255, 255], [255, 255, 255], [255, 255,...</td>\n",
       "      <td>[[[1.0], [1.0], [1.0], [1.0], [1.0], [1.0], [1...</td>\n",
       "    </tr>\n",
       "    <tr>\n",
       "      <th>3</th>\n",
       "      <td>501.jpg</td>\n",
       "      <td>P</td>\n",
       "      <td>[[[255, 255, 255], [255, 255, 255], [255, 255,...</td>\n",
       "      <td>[[[1.0], [1.0], [1.0], [1.0], [1.0], [1.0], [1...</td>\n",
       "    </tr>\n",
       "    <tr>\n",
       "      <th>4</th>\n",
       "      <td>1730.jpg</td>\n",
       "      <td>F</td>\n",
       "      <td>[[[255, 255, 255], [255, 255, 255], [255, 255,...</td>\n",
       "      <td>[[[1.0], [1.0], [1.0], [1.0], [1.0], [1.0], [1...</td>\n",
       "    </tr>\n",
       "  </tbody>\n",
       "</table>\n",
       "</div>"
      ],
      "text/plain": [
       "   filename label                                              image  \\\n",
       "0  1163.jpg     O  [[[255, 255, 255], [255, 255, 255], [255, 255,...   \n",
       "1   854.jpg     P  [[[255, 255, 255], [255, 255, 255], [255, 255,...   \n",
       "2  1576.jpg     C  [[[255, 255, 255], [255, 255, 255], [255, 255,...   \n",
       "3   501.jpg     P  [[[255, 255, 255], [255, 255, 255], [255, 255,...   \n",
       "4  1730.jpg     F  [[[255, 255, 255], [255, 255, 255], [255, 255,...   \n",
       "\n",
       "                                  preprocessed_image  \n",
       "0  [[[1.0], [1.0], [1.0], [1.0], [1.0], [1.0], [1...  \n",
       "1  [[[1.0], [1.0], [1.0], [1.0], [1.0], [0.996078...  \n",
       "2  [[[1.0], [1.0], [1.0], [1.0], [1.0], [1.0], [1...  \n",
       "3  [[[1.0], [1.0], [1.0], [1.0], [1.0], [1.0], [1...  \n",
       "4  [[[1.0], [1.0], [1.0], [1.0], [1.0], [1.0], [1...  "
      ]
     },
     "execution_count": 9,
     "metadata": {},
     "output_type": "execute_result"
    }
   ],
   "source": [
    "meta_data['preprocessed_image'] = preprocessed_image_list\n",
    "meta_data.head()"
   ]
  },
  {
   "cell_type": "code",
   "execution_count": 10,
   "id": "ca37feda",
   "metadata": {},
   "outputs": [
    {
     "data": {
      "text/plain": [
       "<matplotlib.image.AxesImage at 0x1828a4fc4f0>"
      ]
     },
     "execution_count": 10,
     "metadata": {},
     "output_type": "execute_result"
    },
    {
     "data": {
      "image/png": "[encoded data removed]",
      "text/plain": [
       "<Figure size 432x288 with 1 Axes>"
      ]
     },
     "metadata": {
      "needs_background": "light"
     },
     "output_type": "display_data"
    }
   ],
   "source": [
    "# sample image\n",
    "\n",
    "plt.imshow(image_list[5])"
   ]
  },
  {
   "cell_type": "code",
   "execution_count": 11,
   "id": "8eb6f52c",
   "metadata": {},
   "outputs": [
    {
     "data": {
      "text/plain": [
       "<matplotlib.image.AxesImage at 0x1828a5c5370>"
      ]
     },
     "execution_count": 11,
     "metadata": {},
     "output_type": "execute_result"
    },
    {
     "data": {
      "image/png": "[encoded data removed]",
      "text/plain": [
       "<Figure size 432x288 with 1 Axes>"
      ]
     },
     "metadata": {
      "needs_background": "light"
     },
     "output_type": "display_data"
    }
   ],
   "source": [
    "# sample preprocessed image \n",
    "\n",
    "plt.imshow(preprocessed_image_list[4])"
   ]
  },
  {
   "cell_type": "code",
   "execution_count": 12,
   "id": "c6744b20",
   "metadata": {},
   "outputs": [],
   "source": [
    "# splitting meta dataset into inputs and targets\n",
    "\n",
    "X_train = np.array(preprocessed_image_list)\n",
    "\n",
    "le = LabelEncoder() \n",
    "y_train = meta_data['label'] # adding number placeholders for each category\n",
    "y_train = le.fit_transform(y_train)"
   ]
  },
  {
   "cell_type": "code",
   "execution_count": 13,
   "id": "7cd0895d",
   "metadata": {},
   "outputs": [
    {
     "name": "stdout",
     "output_type": "stream",
     "text": [
      "(37198, 64, 64, 1) (37198,)\n"
     ]
    }
   ],
   "source": [
    "print(X_train.shape, y_train.shape)"
   ]
  },
  {
   "cell_type": "markdown",
   "id": "5a1abc6b",
   "metadata": {},
   "source": [
    "### Validation data"
   ]
  },
  {
   "cell_type": "code",
   "execution_count": 14,
   "id": "03f31941",
   "metadata": {},
   "outputs": [],
   "source": [
    "# extracting files, images and labels \n",
    "\n",
    "validation_path = r'C:\\Users\\dariu\\Jupyter_Notebook\\Sign Language Detection\\Gaussian_dataset\\vald'\n",
    "\n",
    "filename_list = []\n",
    "image_list = []\n",
    "label_list = []\n",
    "labels = ['A', 'B', 'C', 'D', 'E', 'F', 'G', 'H', 'I', 'J', 'K', 'L', 'M', 'N', 'O', 'P', 'Q', 'R', 'S', 'T', 'U', 'V', 'W', 'X', 'Y', 'Z']\n",
    "for label in labels:\n",
    "    for filename in os.listdir(validation_path+f'\\\\{label}'):\n",
    "        file_path = validation_path+f'\\\\{label}'+f'\\\\{filename}'\n",
    "        letter = label\n",
    "        image = cv2.imread(file_path)\n",
    "        filename_list.append(filename)\n",
    "        image_list.append(image)\n",
    "        label_list.append(letter)"
   ]
  },
  {
   "cell_type": "code",
   "execution_count": 15,
   "id": "087f826e",
   "metadata": {},
   "outputs": [
    {
     "name": "stdout",
     "output_type": "stream",
     "text": [
      "(7418, 3)\n"
     ]
    },
    {
     "data": {
      "text/html": [
       "<div>\n",
       "<style scoped>\n",
       "    .dataframe tbody tr th:only-of-type {\n",
       "        vertical-align: middle;\n",
       "    }\n",
       "\n",
       "    .dataframe tbody tr th {\n",
       "        vertical-align: top;\n",
       "    }\n",
       "\n",
       "    .dataframe thead th {\n",
       "        text-align: right;\n",
       "    }\n",
       "</style>\n",
       "<table border=\"1\" class=\"dataframe\">\n",
       "  <thead>\n",
       "    <tr style=\"text-align: right;\">\n",
       "      <th></th>\n",
       "      <th>filename</th>\n",
       "      <th>label</th>\n",
       "      <th>image</th>\n",
       "    </tr>\n",
       "  </thead>\n",
       "  <tbody>\n",
       "    <tr>\n",
       "      <th>0</th>\n",
       "      <td>1000.jpg</td>\n",
       "      <td>A</td>\n",
       "      <td>[[[255, 255, 255], [255, 255, 255], [255, 255,...</td>\n",
       "    </tr>\n",
       "    <tr>\n",
       "      <th>1</th>\n",
       "      <td>1007.jpg</td>\n",
       "      <td>A</td>\n",
       "      <td>[[[255, 255, 255], [255, 255, 255], [255, 255,...</td>\n",
       "    </tr>\n",
       "    <tr>\n",
       "      <th>2</th>\n",
       "      <td>1014.jpg</td>\n",
       "      <td>A</td>\n",
       "      <td>[[[255, 255, 255], [255, 255, 255], [255, 255,...</td>\n",
       "    </tr>\n",
       "    <tr>\n",
       "      <th>3</th>\n",
       "      <td>1021.jpg</td>\n",
       "      <td>A</td>\n",
       "      <td>[[[255, 255, 255], [255, 255, 255], [255, 255,...</td>\n",
       "    </tr>\n",
       "    <tr>\n",
       "      <th>4</th>\n",
       "      <td>1028.jpg</td>\n",
       "      <td>A</td>\n",
       "      <td>[[[255, 255, 255], [255, 255, 255], [255, 255,...</td>\n",
       "    </tr>\n",
       "  </tbody>\n",
       "</table>\n",
       "</div>"
      ],
      "text/plain": [
       "   filename label                                              image\n",
       "0  1000.jpg     A  [[[255, 255, 255], [255, 255, 255], [255, 255,...\n",
       "1  1007.jpg     A  [[[255, 255, 255], [255, 255, 255], [255, 255,...\n",
       "2  1014.jpg     A  [[[255, 255, 255], [255, 255, 255], [255, 255,...\n",
       "3  1021.jpg     A  [[[255, 255, 255], [255, 255, 255], [255, 255,...\n",
       "4  1028.jpg     A  [[[255, 255, 255], [255, 255, 255], [255, 255,..."
      ]
     },
     "execution_count": 15,
     "metadata": {},
     "output_type": "execute_result"
    }
   ],
   "source": [
    "# creating meta dataset contiaing filenames, labels, and image\n",
    "\n",
    "val_meta_data = pd.DataFrame({'filename':filename_list, 'label':label_list, 'image':image_list})\n",
    "print(val_meta_data.shape)\n",
    "val_meta_data.head()"
   ]
  },
  {
   "cell_type": "code",
   "execution_count": 16,
   "id": "2b79b7fe",
   "metadata": {},
   "outputs": [
    {
     "data": {
      "text/plain": [
       "F    286\n",
       "D    286\n",
       "J    286\n",
       "X    286\n",
       "Q    286\n",
       "N    286\n",
       "M    286\n",
       "A    286\n",
       "Y    285\n",
       "U    285\n",
       "V    285\n",
       "B    285\n",
       "G    285\n",
       "H    285\n",
       "Z    285\n",
       "O    285\n",
       "R    285\n",
       "C    285\n",
       "I    285\n",
       "P    285\n",
       "L    285\n",
       "W    285\n",
       "K    285\n",
       "S    285\n",
       "E    285\n",
       "T    285\n",
       "Name: label, dtype: int64"
      ]
     },
     "execution_count": 16,
     "metadata": {},
     "output_type": "execute_result"
    }
   ],
   "source": [
    "# number of of samples per letter (category)\n",
    "\n",
    "val_meta_data['label'].value_counts()"
   ]
  },
  {
   "cell_type": "code",
   "execution_count": 17,
   "id": "bc62c2ba",
   "metadata": {},
   "outputs": [
    {
     "data": {
      "text/html": [
       "<div>\n",
       "<style scoped>\n",
       "    .dataframe tbody tr th:only-of-type {\n",
       "        vertical-align: middle;\n",
       "    }\n",
       "\n",
       "    .dataframe tbody tr th {\n",
       "        vertical-align: top;\n",
       "    }\n",
       "\n",
       "    .dataframe thead th {\n",
       "        text-align: right;\n",
       "    }\n",
       "</style>\n",
       "<table border=\"1\" class=\"dataframe\">\n",
       "  <thead>\n",
       "    <tr style=\"text-align: right;\">\n",
       "      <th></th>\n",
       "      <th>filename</th>\n",
       "      <th>label</th>\n",
       "      <th>image</th>\n",
       "    </tr>\n",
       "  </thead>\n",
       "  <tbody>\n",
       "    <tr>\n",
       "      <th>0</th>\n",
       "      <td>1014.jpg</td>\n",
       "      <td>B</td>\n",
       "      <td>[[[255, 255, 255], [255, 255, 255], [255, 255,...</td>\n",
       "    </tr>\n",
       "    <tr>\n",
       "      <th>1</th>\n",
       "      <td>1189.jpg</td>\n",
       "      <td>Q</td>\n",
       "      <td>[[[255, 255, 255], [255, 255, 255], [255, 255,...</td>\n",
       "    </tr>\n",
       "    <tr>\n",
       "      <th>2</th>\n",
       "      <td>314.jpg</td>\n",
       "      <td>J</td>\n",
       "      <td>[[[255, 255, 255], [255, 255, 255], [255, 255,...</td>\n",
       "    </tr>\n",
       "    <tr>\n",
       "      <th>3</th>\n",
       "      <td>1007.jpg</td>\n",
       "      <td>E</td>\n",
       "      <td>[[[255, 255, 255], [255, 255, 255], [255, 255,...</td>\n",
       "    </tr>\n",
       "    <tr>\n",
       "      <th>4</th>\n",
       "      <td>1924.jpg</td>\n",
       "      <td>P</td>\n",
       "      <td>[[[255, 255, 255], [255, 255, 255], [255, 255,...</td>\n",
       "    </tr>\n",
       "  </tbody>\n",
       "</table>\n",
       "</div>"
      ],
      "text/plain": [
       "   filename label                                              image\n",
       "0  1014.jpg     B  [[[255, 255, 255], [255, 255, 255], [255, 255,...\n",
       "1  1189.jpg     Q  [[[255, 255, 255], [255, 255, 255], [255, 255,...\n",
       "2   314.jpg     J  [[[255, 255, 255], [255, 255, 255], [255, 255,...\n",
       "3  1007.jpg     E  [[[255, 255, 255], [255, 255, 255], [255, 255,...\n",
       "4  1924.jpg     P  [[[255, 255, 255], [255, 255, 255], [255, 255,..."
      ]
     },
     "execution_count": 17,
     "metadata": {},
     "output_type": "execute_result"
    }
   ],
   "source": [
    "# shuffling meta dataset\n",
    "\n",
    "val_meta_data =val_meta_data.sample(frac=1).reset_index(drop=True)\n",
    "val_meta_data.head()"
   ]
  },
  {
   "cell_type": "code",
   "execution_count": 18,
   "id": "26c5f1b0",
   "metadata": {},
   "outputs": [],
   "source": [
    "preprocessed_image_list = []\n",
    "for image in val_meta_data['image']:\n",
    "    img = preprocess_image(image)\n",
    "    preprocessed_image_list.append(img)"
   ]
  },
  {
   "cell_type": "code",
   "execution_count": 19,
   "id": "559dd8c4",
   "metadata": {},
   "outputs": [],
   "source": [
    "# splitting meta dataset into inputs and targets\n",
    "\n",
    "X_val = np.array(preprocessed_image_list)\n",
    "\n",
    "y_val = val_meta_data['label'] # adding number placeholders for each category\n",
    "y_val = le.transform(y_val)"
   ]
  },
  {
   "cell_type": "code",
   "execution_count": 20,
   "id": "1e5c5536",
   "metadata": {},
   "outputs": [
    {
     "name": "stdout",
     "output_type": "stream",
     "text": [
      "(7418, 64, 64, 1) (7418,)\n"
     ]
    }
   ],
   "source": [
    "print(X_val.shape, y_val.shape)"
   ]
  },
  {
   "cell_type": "code",
   "execution_count": 21,
   "id": "dbb040a7",
   "metadata": {},
   "outputs": [
    {
     "data": {
      "text/html": [
       "<div>\n",
       "<style scoped>\n",
       "    .dataframe tbody tr th:only-of-type {\n",
       "        vertical-align: middle;\n",
       "    }\n",
       "\n",
       "    .dataframe tbody tr th {\n",
       "        vertical-align: top;\n",
       "    }\n",
       "\n",
       "    .dataframe thead th {\n",
       "        text-align: right;\n",
       "    }\n",
       "</style>\n",
       "<table border=\"1\" class=\"dataframe\">\n",
       "  <thead>\n",
       "    <tr style=\"text-align: right;\">\n",
       "      <th></th>\n",
       "      <th>filename</th>\n",
       "      <th>label</th>\n",
       "      <th>image</th>\n",
       "      <th>preprocessed_image</th>\n",
       "    </tr>\n",
       "  </thead>\n",
       "  <tbody>\n",
       "    <tr>\n",
       "      <th>0</th>\n",
       "      <td>1014.jpg</td>\n",
       "      <td>B</td>\n",
       "      <td>[[[255, 255, 255], [255, 255, 255], [255, 255,...</td>\n",
       "      <td>[[[1.0], [1.0], [1.0], [1.0], [1.0], [1.0], [0...</td>\n",
       "    </tr>\n",
       "    <tr>\n",
       "      <th>1</th>\n",
       "      <td>1189.jpg</td>\n",
       "      <td>Q</td>\n",
       "      <td>[[[255, 255, 255], [255, 255, 255], [255, 255,...</td>\n",
       "      <td>[[[1.0], [1.0], [1.0], [1.0], [1.0], [1.0], [1...</td>\n",
       "    </tr>\n",
       "    <tr>\n",
       "      <th>2</th>\n",
       "      <td>314.jpg</td>\n",
       "      <td>J</td>\n",
       "      <td>[[[255, 255, 255], [255, 255, 255], [255, 255,...</td>\n",
       "      <td>[[[1.0], [1.0], [1.0], [1.0], [1.0], [1.0], [1...</td>\n",
       "    </tr>\n",
       "    <tr>\n",
       "      <th>3</th>\n",
       "      <td>1007.jpg</td>\n",
       "      <td>E</td>\n",
       "      <td>[[[255, 255, 255], [255, 255, 255], [255, 255,...</td>\n",
       "      <td>[[[1.0], [1.0], [1.0], [0.99215686], [0.745098...</td>\n",
       "    </tr>\n",
       "    <tr>\n",
       "      <th>4</th>\n",
       "      <td>1924.jpg</td>\n",
       "      <td>P</td>\n",
       "      <td>[[[255, 255, 255], [255, 255, 255], [255, 255,...</td>\n",
       "      <td>[[[1.0], [1.0], [1.0], [1.0], [1.0], [1.0], [1...</td>\n",
       "    </tr>\n",
       "  </tbody>\n",
       "</table>\n",
       "</div>"
      ],
      "text/plain": [
       "   filename label                                              image  \\\n",
       "0  1014.jpg     B  [[[255, 255, 255], [255, 255, 255], [255, 255,...   \n",
       "1  1189.jpg     Q  [[[255, 255, 255], [255, 255, 255], [255, 255,...   \n",
       "2   314.jpg     J  [[[255, 255, 255], [255, 255, 255], [255, 255,...   \n",
       "3  1007.jpg     E  [[[255, 255, 255], [255, 255, 255], [255, 255,...   \n",
       "4  1924.jpg     P  [[[255, 255, 255], [255, 255, 255], [255, 255,...   \n",
       "\n",
       "                                  preprocessed_image  \n",
       "0  [[[1.0], [1.0], [1.0], [1.0], [1.0], [1.0], [0...  \n",
       "1  [[[1.0], [1.0], [1.0], [1.0], [1.0], [1.0], [1...  \n",
       "2  [[[1.0], [1.0], [1.0], [1.0], [1.0], [1.0], [1...  \n",
       "3  [[[1.0], [1.0], [1.0], [0.99215686], [0.745098...  \n",
       "4  [[[1.0], [1.0], [1.0], [1.0], [1.0], [1.0], [1...  "
      ]
     },
     "execution_count": 21,
     "metadata": {},
     "output_type": "execute_result"
    }
   ],
   "source": [
    "val_meta_data['preprocessed_image'] = preprocessed_image_list\n",
    "val_meta_data.head()"
   ]
  },
  {
   "cell_type": "code",
   "execution_count": 22,
   "id": "133e472d",
   "metadata": {},
   "outputs": [
    {
     "data": {
      "text/plain": [
       "<matplotlib.image.AxesImage at 0x18355d6bb50>"
      ]
     },
     "execution_count": 22,
     "metadata": {},
     "output_type": "execute_result"
    },
    {
     "data": {
      "image/png": "[encoded data removed]",
      "text/plain": [
       "<Figure size 432x288 with 1 Axes>"
      ]
     },
     "metadata": {
      "needs_background": "light"
     },
     "output_type": "display_data"
    }
   ],
   "source": [
    "# sample image\n",
    "\n",
    "plt.imshow(image_list[1900])"
   ]
  },
  {
   "cell_type": "code",
   "execution_count": 23,
   "id": "b32cae1d",
   "metadata": {},
   "outputs": [
    {
     "data": {
      "text/plain": [
       "<matplotlib.image.AxesImage at 0x1835d18bb20>"
      ]
     },
     "execution_count": 23,
     "metadata": {},
     "output_type": "execute_result"
    },
    {
     "data": {
      "image/png": "[encoded data removed]",
      "text/plain": [
       "<Figure size 432x288 with 1 Axes>"
      ]
     },
     "metadata": {
      "needs_background": "light"
     },
     "output_type": "display_data"
    }
   ],
   "source": [
    "# sample preprocessed image \n",
    "\n",
    "plt.imshow(preprocessed_image_list[4])"
   ]
  },
  {
   "cell_type": "markdown",
   "id": "9006a58d",
   "metadata": {},
   "source": [
    "## Model Training"
   ]
  },
  {
   "cell_type": "code",
   "execution_count": 24,
   "id": "0bfc2132",
   "metadata": {},
   "outputs": [
    {
     "name": "stdout",
     "output_type": "stream",
     "text": [
      "(64, 64, 1) 26\n"
     ]
    }
   ],
   "source": [
    "# INPUT_SHAPE and OUTPUT_SHAPE hyperparameters\n",
    "\n",
    "INPUT_SHAPE = X_train.shape[1:]\n",
    "OUTPUT_SHAPE = len(labels)\n",
    "print(INPUT_SHAPE, OUTPUT_SHAPE)"
   ]
  },
  {
   "cell_type": "code",
   "execution_count": 25,
   "id": "49c6e680",
   "metadata": {},
   "outputs": [],
   "source": [
    "# # creating CNN model with activation relu\n",
    "# # output layer activation is softmax as this is a multiclassification model\n",
    "\n",
    "# model = Sequential()\n",
    "# model.add(Conv2D(32, (2,2), activation='relu', input_shape=INPUT_SHAPE))\n",
    "# model.add(MaxPool2D(2,2))\n",
    "# model.add(Dropout(0.1))\n",
    "\n",
    "# model.add(Conv2D(64, (2,2), activation='relu'))\n",
    "# model.add(MaxPool2D(2,2))\n",
    "# model.add(Dropout(0.1))\n",
    "\n",
    "# model.add(Conv2D(64, (3,3), activation='relu'))\n",
    "# model.add(MaxPool2D(2,2))\n",
    "# model.add(Flatten())\n",
    "# model.add(Dropout(0.3))\n",
    "# model.add(Dense(70, activation='relu'))\n",
    "# model.add(Dense(OUTPUT_SHAPE, activation='softmax'))"
   ]
  },
  {
   "cell_type": "code",
   "execution_count": 26,
   "id": "250679f4",
   "metadata": {},
   "outputs": [],
   "source": [
    "# creating CNN model with activation relu\n",
    "# output layer activation is softmax as this is a multiclassification model\n",
    "\n",
    "model = Sequential()\n",
    "model.add(Conv2D(32, (2,2), activation='relu', input_shape=INPUT_SHAPE))\n",
    "model.add(MaxPool2D(2,2))\n",
    "model.add(Dropout(0.7))\n",
    "\n",
    "model.add(Conv2D(64, (2,2), activation='relu'))\n",
    "model.add(MaxPool2D(2,2))\n",
    "model.add(Dropout(0.7))\n",
    "\n",
    "model.add(Conv2D(64, (3,3), activation='relu'))\n",
    "model.add(MaxPool2D(2,2))\n",
    "model.add(Flatten())\n",
    "model.add(Dropout(0.7))\n",
    "model.add(Dense(70, activation='relu'))\n",
    "model.add(Dense(OUTPUT_SHAPE, activation='softmax'))"
   ]
  },
  {
   "cell_type": "code",
   "execution_count": 27,
   "id": "04ac933e",
   "metadata": {},
   "outputs": [],
   "source": [
    "# configuring early stopping to avoid overfitting\n",
    "\n",
    "es = EarlyStopping(monitor='accuracy', patience=1, restore_best_weights=True)"
   ]
  },
  {
   "cell_type": "code",
   "execution_count": 28,
   "id": "4e3c5d77",
   "metadata": {},
   "outputs": [],
   "source": [
    "# using adam as optimizer and sparse_categorical_crossentropy as loss function\n",
    "\n",
    "model.compile(optimizer='adam', loss='sparse_categorical_crossentropy', metrics=['accuracy'])"
   ]
  },
  {
   "cell_type": "code",
   "execution_count": 29,
   "id": "fcba856b",
   "metadata": {},
   "outputs": [
    {
     "name": "stdout",
     "output_type": "stream",
     "text": [
      "Epoch 1/15\n",
      "1163/1163 - 25s - loss: 1.9981 - accuracy: 0.3936 - val_loss: 0.3893 - val_accuracy: 0.9261 - 25s/epoch - 22ms/step\n",
      "Epoch 2/15\n",
      "1163/1163 - 9s - loss: 0.3555 - accuracy: 0.8800 - val_loss: 0.1087 - val_accuracy: 0.9831 - 9s/epoch - 8ms/step\n",
      "Epoch 3/15\n",
      "1163/1163 - 9s - loss: 0.2099 - accuracy: 0.9289 - val_loss: 0.0749 - val_accuracy: 0.9896 - 9s/epoch - 8ms/step\n",
      "Epoch 4/15\n",
      "1163/1163 - 9s - loss: 0.1564 - accuracy: 0.9456 - val_loss: 0.0528 - val_accuracy: 0.9919 - 9s/epoch - 8ms/step\n",
      "Epoch 5/15\n",
      "1163/1163 - 10s - loss: 0.1288 - accuracy: 0.9568 - val_loss: 0.0403 - val_accuracy: 0.9938 - 10s/epoch - 8ms/step\n",
      "Epoch 6/15\n",
      "1163/1163 - 9s - loss: 0.1115 - accuracy: 0.9625 - val_loss: 0.0488 - val_accuracy: 0.9939 - 9s/epoch - 8ms/step\n",
      "Epoch 7/15\n",
      "1163/1163 - 9s - loss: 0.1066 - accuracy: 0.9637 - val_loss: 0.0373 - val_accuracy: 0.9958 - 9s/epoch - 8ms/step\n",
      "Epoch 8/15\n",
      "1163/1163 - 9s - loss: 0.0949 - accuracy: 0.9681 - val_loss: 0.0327 - val_accuracy: 0.9953 - 9s/epoch - 8ms/step\n",
      "Epoch 9/15\n",
      "1163/1163 - 9s - loss: 0.0957 - accuracy: 0.9671 - val_loss: 0.0452 - val_accuracy: 0.9962 - 9s/epoch - 8ms/step\n"
     ]
    }
   ],
   "source": [
    "# training the model\n",
    "\n",
    "hist = model.fit(X_train, y_train, epochs=15, batch_size=32, validation_data=(X_val,y_val), verbose=2, callbacks=[es])"
   ]
  },
  {
   "cell_type": "code",
   "execution_count": 30,
   "id": "37edc2ec",
   "metadata": {},
   "outputs": [
    {
     "name": "stdout",
     "output_type": "stream",
     "text": [
      "Model: \"sequential\"\n",
      "_________________________________________________________________\n",
      " Layer (type)                Output Shape              Param #   \n",
      "=================================================================\n",
      " conv2d (Conv2D)             (None, 63, 63, 32)        160       \n",
      "                                                                 \n",
      " max_pooling2d (MaxPooling2D  (None, 31, 31, 32)       0         \n",
      " )                                                               \n",
      "                                                                 \n",
      " dropout (Dropout)           (None, 31, 31, 32)        0         \n",
      "                                                                 \n",
      " conv2d_1 (Conv2D)           (None, 30, 30, 64)        8256      \n",
      "                                                                 \n",
      " max_pooling2d_1 (MaxPooling  (None, 15, 15, 64)       0         \n",
      " 2D)                                                             \n",
      "                                                                 \n",
      " dropout_1 (Dropout)         (None, 15, 15, 64)        0         \n",
      "                                                                 \n",
      " conv2d_2 (Conv2D)           (None, 13, 13, 64)        36928     \n",
      "                                                                 \n",
      " max_pooling2d_2 (MaxPooling  (None, 6, 6, 64)         0         \n",
      " 2D)                                                             \n",
      "                                                                 \n",
      " flatten (Flatten)           (None, 2304)              0         \n",
      "                                                                 \n",
      " dropout_2 (Dropout)         (None, 2304)              0         \n",
      "                                                                 \n",
      " dense (Dense)               (None, 70)                161350    \n",
      "                                                                 \n",
      " dense_1 (Dense)             (None, 26)                1846      \n",
      "                                                                 \n",
      "=================================================================\n",
      "Total params: 208,540\n",
      "Trainable params: 208,540\n",
      "Non-trainable params: 0\n",
      "_________________________________________________________________\n"
     ]
    }
   ],
   "source": [
    "# summary of the model\n",
    "\n",
    "model.summary()"
   ]
  },
  {
   "cell_type": "code",
   "execution_count": 31,
   "id": "72e96a1a",
   "metadata": {},
   "outputs": [
    {
     "data": {
      "image/png": "[encoded data removed]",
      "text/plain": [
       "<IPython.core.display.Image object>"
      ]
     },
     "execution_count": 31,
     "metadata": {},
     "output_type": "execute_result"
    }
   ],
   "source": [
    "# model architecture\n",
    "\n",
    "plot_model(model, show_shapes=True)"
   ]
  },
  {
   "cell_type": "code",
   "execution_count": 32,
   "id": "72f71818",
   "metadata": {},
   "outputs": [
    {
     "data": {
      "image/png": "[encoded data removed]",
      "text/plain": [
       "<Figure size 432x288 with 1 Axes>"
      ]
     },
     "metadata": {
      "needs_background": "light"
     },
     "output_type": "display_data"
    }
   ],
   "source": [
    "# Accuracy learning curve\n",
    "\n",
    "plt.title(\"Learning Curve\")\n",
    "plt.plot(hist.history['accuracy'], label='train')\n",
    "plt.plot(hist.history['val_accuracy'], label='val')\n",
    "plt.xlabel('Epochs')\n",
    "plt.ylabel('Accuracy')\n",
    "plt.legend()\n",
    "plt.show()"
   ]
  },
  {
   "cell_type": "code",
   "execution_count": 33,
   "id": "4f7154bf",
   "metadata": {
    "scrolled": true
   },
   "outputs": [
    {
     "data": {
      "image/png": "[encoded data removed]",
      "text/plain": [
       "<Figure size 432x288 with 1 Axes>"
      ]
     },
     "metadata": {
      "needs_background": "light"
     },
     "output_type": "display_data"
    }
   ],
   "source": [
    "# Loss learning curve\n",
    "\n",
    "plt.title(\"Learning Curve\")\n",
    "plt.plot(hist.history['loss'], label='train')\n",
    "plt.plot(hist.history['val_loss'], label='val')\n",
    "plt.xlabel('Epochs')\n",
    "plt.ylabel('Loss')\n",
    "plt.legend()\n",
    "plt.show()"
   ]
  },
  {
   "cell_type": "markdown",
   "id": "27f47328",
   "metadata": {},
   "source": [
    "## Model Testing"
   ]
  },
  {
   "cell_type": "markdown",
   "id": "f79c23ff",
   "metadata": {},
   "source": [
    "### Test data"
   ]
  },
  {
   "cell_type": "code",
   "execution_count": 34,
   "id": "06b238a4",
   "metadata": {},
   "outputs": [],
   "source": [
    "# extracting files, images and labels \n",
    "\n",
    "test_path = r'C:\\Users\\dariu\\Jupyter_Notebook\\Sign Language Detection\\Gaussian_dataset\\test'\n",
    "\n",
    "filename_list = []\n",
    "image_list = []\n",
    "label_list = []\n",
    "labels = ['A', 'B', 'C', 'D', 'E', 'F', 'G', 'H', 'I', 'J', 'K', 'L', 'M', 'N', 'O', 'P', 'Q', 'R', 'S', 'T', 'U', 'V', 'W', 'X', 'Y', 'Z']\n",
    "for label in labels:\n",
    "    for filename in os.listdir(test_path+f'\\\\{label}'):\n",
    "        file_path = test_path+f'\\\\{label}'+f'\\\\{filename}'\n",
    "        letter = label\n",
    "        image = cv2.imread(file_path)\n",
    "        filename_list.append(filename)\n",
    "        image_list.append(image)\n",
    "        label_list.append(letter)"
   ]
  },
  {
   "cell_type": "code",
   "execution_count": 35,
   "id": "e5d2b7cf",
   "metadata": {},
   "outputs": [
    {
     "name": "stdout",
     "output_type": "stream",
     "text": [
      "(7420, 3)\n"
     ]
    },
    {
     "data": {
      "text/html": [
       "<div>\n",
       "<style scoped>\n",
       "    .dataframe tbody tr th:only-of-type {\n",
       "        vertical-align: middle;\n",
       "    }\n",
       "\n",
       "    .dataframe tbody tr th {\n",
       "        vertical-align: top;\n",
       "    }\n",
       "\n",
       "    .dataframe thead th {\n",
       "        text-align: right;\n",
       "    }\n",
       "</style>\n",
       "<table border=\"1\" class=\"dataframe\">\n",
       "  <thead>\n",
       "    <tr style=\"text-align: right;\">\n",
       "      <th></th>\n",
       "      <th>filename</th>\n",
       "      <th>label</th>\n",
       "      <th>image</th>\n",
       "    </tr>\n",
       "  </thead>\n",
       "  <tbody>\n",
       "    <tr>\n",
       "      <th>0</th>\n",
       "      <td>1006.jpg</td>\n",
       "      <td>A</td>\n",
       "      <td>[[[255, 255, 255], [255, 255, 255], [255, 255,...</td>\n",
       "    </tr>\n",
       "    <tr>\n",
       "      <th>1</th>\n",
       "      <td>1013.jpg</td>\n",
       "      <td>A</td>\n",
       "      <td>[[[255, 255, 255], [255, 255, 255], [255, 255,...</td>\n",
       "    </tr>\n",
       "    <tr>\n",
       "      <th>2</th>\n",
       "      <td>1020.jpg</td>\n",
       "      <td>A</td>\n",
       "      <td>[[[255, 255, 255], [255, 255, 255], [255, 255,...</td>\n",
       "    </tr>\n",
       "    <tr>\n",
       "      <th>3</th>\n",
       "      <td>1027.jpg</td>\n",
       "      <td>A</td>\n",
       "      <td>[[[255, 255, 255], [255, 255, 255], [255, 255,...</td>\n",
       "    </tr>\n",
       "    <tr>\n",
       "      <th>4</th>\n",
       "      <td>103.jpg</td>\n",
       "      <td>A</td>\n",
       "      <td>[[[255, 255, 255], [255, 255, 255], [255, 255,...</td>\n",
       "    </tr>\n",
       "  </tbody>\n",
       "</table>\n",
       "</div>"
      ],
      "text/plain": [
       "   filename label                                              image\n",
       "0  1006.jpg     A  [[[255, 255, 255], [255, 255, 255], [255, 255,...\n",
       "1  1013.jpg     A  [[[255, 255, 255], [255, 255, 255], [255, 255,...\n",
       "2  1020.jpg     A  [[[255, 255, 255], [255, 255, 255], [255, 255,...\n",
       "3  1027.jpg     A  [[[255, 255, 255], [255, 255, 255], [255, 255,...\n",
       "4   103.jpg     A  [[[255, 255, 255], [255, 255, 255], [255, 255,..."
      ]
     },
     "execution_count": 35,
     "metadata": {},
     "output_type": "execute_result"
    }
   ],
   "source": [
    "# creating meta dataset containing filenames, labels, and image\n",
    "\n",
    "test_meta_data = pd.DataFrame({'filename':filename_list, 'label':label_list, 'image':image_list})\n",
    "print(test_meta_data.shape)\n",
    "test_meta_data.head()"
   ]
  },
  {
   "cell_type": "code",
   "execution_count": 36,
   "id": "04dda9f2",
   "metadata": {},
   "outputs": [
    {
     "data": {
      "text/plain": [
       "M    287\n",
       "F    286\n",
       "D    286\n",
       "J    286\n",
       "X    286\n",
       "K    286\n",
       "N    286\n",
       "Q    286\n",
       "A    286\n",
       "Y    285\n",
       "U    285\n",
       "V    285\n",
       "B    285\n",
       "G    285\n",
       "H    285\n",
       "Z    285\n",
       "O    285\n",
       "R    285\n",
       "C    285\n",
       "I    285\n",
       "P    285\n",
       "L    285\n",
       "W    285\n",
       "S    285\n",
       "E    285\n",
       "T    285\n",
       "Name: label, dtype: int64"
      ]
     },
     "execution_count": 36,
     "metadata": {},
     "output_type": "execute_result"
    }
   ],
   "source": [
    "# number of of samples per letter (category)\n",
    "\n",
    "test_meta_data['label'].value_counts()"
   ]
  },
  {
   "cell_type": "code",
   "execution_count": 37,
   "id": "4073ea94",
   "metadata": {},
   "outputs": [
    {
     "data": {
      "text/html": [
       "<div>\n",
       "<style scoped>\n",
       "    .dataframe tbody tr th:only-of-type {\n",
       "        vertical-align: middle;\n",
       "    }\n",
       "\n",
       "    .dataframe tbody tr th {\n",
       "        vertical-align: top;\n",
       "    }\n",
       "\n",
       "    .dataframe thead th {\n",
       "        text-align: right;\n",
       "    }\n",
       "</style>\n",
       "<table border=\"1\" class=\"dataframe\">\n",
       "  <thead>\n",
       "    <tr style=\"text-align: right;\">\n",
       "      <th></th>\n",
       "      <th>filename</th>\n",
       "      <th>label</th>\n",
       "      <th>image</th>\n",
       "    </tr>\n",
       "  </thead>\n",
       "  <tbody>\n",
       "    <tr>\n",
       "      <th>3425</th>\n",
       "      <td>1006.jpg</td>\n",
       "      <td>M</td>\n",
       "      <td>[[[255, 255, 255], [255, 255, 255], [255, 255,...</td>\n",
       "    </tr>\n",
       "    <tr>\n",
       "      <th>3426</th>\n",
       "      <td>1013.jpg</td>\n",
       "      <td>M</td>\n",
       "      <td>[[[255, 255, 255], [255, 255, 255], [255, 255,...</td>\n",
       "    </tr>\n",
       "    <tr>\n",
       "      <th>3427</th>\n",
       "      <td>1020.jpg</td>\n",
       "      <td>M</td>\n",
       "      <td>[[[255, 255, 255], [255, 255, 255], [255, 255,...</td>\n",
       "    </tr>\n",
       "    <tr>\n",
       "      <th>3428</th>\n",
       "      <td>1027.jpg</td>\n",
       "      <td>M</td>\n",
       "      <td>[[[255, 255, 255], [255, 255, 255], [255, 255,...</td>\n",
       "    </tr>\n",
       "    <tr>\n",
       "      <th>3429</th>\n",
       "      <td>103.jpg</td>\n",
       "      <td>M</td>\n",
       "      <td>[[[255, 255, 255], [255, 255, 255], [255, 255,...</td>\n",
       "    </tr>\n",
       "    <tr>\n",
       "      <th>...</th>\n",
       "      <td>...</td>\n",
       "      <td>...</td>\n",
       "      <td>...</td>\n",
       "    </tr>\n",
       "    <tr>\n",
       "      <th>3707</th>\n",
       "      <td>971.jpg</td>\n",
       "      <td>M</td>\n",
       "      <td>[[[255, 255, 255], [255, 255, 255], [255, 255,...</td>\n",
       "    </tr>\n",
       "    <tr>\n",
       "      <th>3708</th>\n",
       "      <td>978.jpg</td>\n",
       "      <td>M</td>\n",
       "      <td>[[[255, 255, 255], [255, 255, 255], [255, 255,...</td>\n",
       "    </tr>\n",
       "    <tr>\n",
       "      <th>3709</th>\n",
       "      <td>985.jpg</td>\n",
       "      <td>M</td>\n",
       "      <td>[[[255, 255, 255], [255, 255, 255], [255, 255,...</td>\n",
       "    </tr>\n",
       "    <tr>\n",
       "      <th>3710</th>\n",
       "      <td>992.jpg</td>\n",
       "      <td>M</td>\n",
       "      <td>[[[255, 255, 255], [255, 255, 255], [255, 255,...</td>\n",
       "    </tr>\n",
       "    <tr>\n",
       "      <th>3711</th>\n",
       "      <td>999.jpg</td>\n",
       "      <td>M</td>\n",
       "      <td>[[[255, 255, 255], [255, 255, 255], [255, 255,...</td>\n",
       "    </tr>\n",
       "  </tbody>\n",
       "</table>\n",
       "<p>287 rows × 3 columns</p>\n",
       "</div>"
      ],
      "text/plain": [
       "      filename label                                              image\n",
       "3425  1006.jpg     M  [[[255, 255, 255], [255, 255, 255], [255, 255,...\n",
       "3426  1013.jpg     M  [[[255, 255, 255], [255, 255, 255], [255, 255,...\n",
       "3427  1020.jpg     M  [[[255, 255, 255], [255, 255, 255], [255, 255,...\n",
       "3428  1027.jpg     M  [[[255, 255, 255], [255, 255, 255], [255, 255,...\n",
       "3429   103.jpg     M  [[[255, 255, 255], [255, 255, 255], [255, 255,...\n",
       "...        ...   ...                                                ...\n",
       "3707   971.jpg     M  [[[255, 255, 255], [255, 255, 255], [255, 255,...\n",
       "3708   978.jpg     M  [[[255, 255, 255], [255, 255, 255], [255, 255,...\n",
       "3709   985.jpg     M  [[[255, 255, 255], [255, 255, 255], [255, 255,...\n",
       "3710   992.jpg     M  [[[255, 255, 255], [255, 255, 255], [255, 255,...\n",
       "3711   999.jpg     M  [[[255, 255, 255], [255, 255, 255], [255, 255,...\n",
       "\n",
       "[287 rows x 3 columns]"
      ]
     },
     "execution_count": 37,
     "metadata": {},
     "output_type": "execute_result"
    }
   ],
   "source": [
    "test_meta_data.loc[test_meta_data['label']=='M']"
   ]
  },
  {
   "cell_type": "code",
   "execution_count": 38,
   "id": "b27eb954",
   "metadata": {},
   "outputs": [
    {
     "data": {
      "text/html": [
       "<div>\n",
       "<style scoped>\n",
       "    .dataframe tbody tr th:only-of-type {\n",
       "        vertical-align: middle;\n",
       "    }\n",
       "\n",
       "    .dataframe tbody tr th {\n",
       "        vertical-align: top;\n",
       "    }\n",
       "\n",
       "    .dataframe thead th {\n",
       "        text-align: right;\n",
       "    }\n",
       "</style>\n",
       "<table border=\"1\" class=\"dataframe\">\n",
       "  <thead>\n",
       "    <tr style=\"text-align: right;\">\n",
       "      <th></th>\n",
       "      <th>filename</th>\n",
       "      <th>label</th>\n",
       "      <th>image</th>\n",
       "    </tr>\n",
       "  </thead>\n",
       "  <tbody>\n",
       "    <tr>\n",
       "      <th>0</th>\n",
       "      <td>1405.jpg</td>\n",
       "      <td>U</td>\n",
       "      <td>[[[255, 255, 255], [255, 255, 255], [255, 255,...</td>\n",
       "    </tr>\n",
       "    <tr>\n",
       "      <th>1</th>\n",
       "      <td>544.jpg</td>\n",
       "      <td>H</td>\n",
       "      <td>[[[255, 255, 255], [255, 255, 255], [255, 255,...</td>\n",
       "    </tr>\n",
       "    <tr>\n",
       "      <th>2</th>\n",
       "      <td>1062.jpg</td>\n",
       "      <td>V</td>\n",
       "      <td>[[[255, 255, 255], [255, 255, 255], [255, 255,...</td>\n",
       "    </tr>\n",
       "    <tr>\n",
       "      <th>3</th>\n",
       "      <td>1699.jpg</td>\n",
       "      <td>V</td>\n",
       "      <td>[[[254, 254, 254], [255, 255, 255], [253, 253,...</td>\n",
       "    </tr>\n",
       "    <tr>\n",
       "      <th>4</th>\n",
       "      <td>1685.jpg</td>\n",
       "      <td>Z</td>\n",
       "      <td>[[[255, 255, 255], [255, 255, 255], [255, 255,...</td>\n",
       "    </tr>\n",
       "  </tbody>\n",
       "</table>\n",
       "</div>"
      ],
      "text/plain": [
       "   filename label                                              image\n",
       "0  1405.jpg     U  [[[255, 255, 255], [255, 255, 255], [255, 255,...\n",
       "1   544.jpg     H  [[[255, 255, 255], [255, 255, 255], [255, 255,...\n",
       "2  1062.jpg     V  [[[255, 255, 255], [255, 255, 255], [255, 255,...\n",
       "3  1699.jpg     V  [[[254, 254, 254], [255, 255, 255], [253, 253,...\n",
       "4  1685.jpg     Z  [[[255, 255, 255], [255, 255, 255], [255, 255,..."
      ]
     },
     "execution_count": 38,
     "metadata": {},
     "output_type": "execute_result"
    }
   ],
   "source": [
    "# shuffling meta dataset\n",
    "\n",
    "test_meta_data =test_meta_data.sample(frac=1).reset_index(drop=True)\n",
    "test_meta_data.head()"
   ]
  },
  {
   "cell_type": "code",
   "execution_count": 39,
   "id": "bed2fd64",
   "metadata": {},
   "outputs": [],
   "source": [
    "preprocessed_image_list = []\n",
    "error = []\n",
    "\n",
    "for image in test_meta_data['image']:\n",
    "    img = preprocess_image(image)\n",
    "    preprocessed_image_list.append(img)"
   ]
  },
  {
   "cell_type": "code",
   "execution_count": 40,
   "id": "140e0bb8",
   "metadata": {},
   "outputs": [],
   "source": [
    "# splitting meta dataset into inputs and targets\n",
    "\n",
    "X_test = np.array(preprocessed_image_list)\n",
    "\n",
    "y_test = test_meta_data['label'] # adding number placeholders for each category\n",
    "y_test = le.transform(y_test)"
   ]
  },
  {
   "cell_type": "code",
   "execution_count": 41,
   "id": "d926409d",
   "metadata": {},
   "outputs": [
    {
     "name": "stdout",
     "output_type": "stream",
     "text": [
      "(7420, 64, 64, 1) (7420,)\n"
     ]
    }
   ],
   "source": [
    "print(X_test.shape, y_test.shape)"
   ]
  },
  {
   "cell_type": "code",
   "execution_count": 42,
   "id": "3a30ee15",
   "metadata": {},
   "outputs": [
    {
     "data": {
      "text/html": [
       "<div>\n",
       "<style scoped>\n",
       "    .dataframe tbody tr th:only-of-type {\n",
       "        vertical-align: middle;\n",
       "    }\n",
       "\n",
       "    .dataframe tbody tr th {\n",
       "        vertical-align: top;\n",
       "    }\n",
       "\n",
       "    .dataframe thead th {\n",
       "        text-align: right;\n",
       "    }\n",
       "</style>\n",
       "<table border=\"1\" class=\"dataframe\">\n",
       "  <thead>\n",
       "    <tr style=\"text-align: right;\">\n",
       "      <th></th>\n",
       "      <th>filename</th>\n",
       "      <th>label</th>\n",
       "      <th>image</th>\n",
       "      <th>preprocessed_image</th>\n",
       "    </tr>\n",
       "  </thead>\n",
       "  <tbody>\n",
       "    <tr>\n",
       "      <th>0</th>\n",
       "      <td>1405.jpg</td>\n",
       "      <td>U</td>\n",
       "      <td>[[[255, 255, 255], [255, 255, 255], [255, 255,...</td>\n",
       "      <td>[[[1.0], [1.0], [1.0], [1.0], [1.0], [1.0], [1...</td>\n",
       "    </tr>\n",
       "    <tr>\n",
       "      <th>1</th>\n",
       "      <td>544.jpg</td>\n",
       "      <td>H</td>\n",
       "      <td>[[[255, 255, 255], [255, 255, 255], [255, 255,...</td>\n",
       "      <td>[[[1.0], [1.0], [1.0], [1.0], [1.0], [1.0], [1...</td>\n",
       "    </tr>\n",
       "    <tr>\n",
       "      <th>2</th>\n",
       "      <td>1062.jpg</td>\n",
       "      <td>V</td>\n",
       "      <td>[[[255, 255, 255], [255, 255, 255], [255, 255,...</td>\n",
       "      <td>[[[1.0], [1.0], [1.0], [1.0], [1.0], [1.0], [1...</td>\n",
       "    </tr>\n",
       "    <tr>\n",
       "      <th>3</th>\n",
       "      <td>1699.jpg</td>\n",
       "      <td>V</td>\n",
       "      <td>[[[254, 254, 254], [255, 255, 255], [253, 253,...</td>\n",
       "      <td>[[[0.89411765], [0.99607843], [1.0], [1.0], [1...</td>\n",
       "    </tr>\n",
       "    <tr>\n",
       "      <th>4</th>\n",
       "      <td>1685.jpg</td>\n",
       "      <td>Z</td>\n",
       "      <td>[[[255, 255, 255], [255, 255, 255], [255, 255,...</td>\n",
       "      <td>[[[1.0], [1.0], [1.0], [1.0], [1.0], [1.0], [1...</td>\n",
       "    </tr>\n",
       "  </tbody>\n",
       "</table>\n",
       "</div>"
      ],
      "text/plain": [
       "   filename label                                              image  \\\n",
       "0  1405.jpg     U  [[[255, 255, 255], [255, 255, 255], [255, 255,...   \n",
       "1   544.jpg     H  [[[255, 255, 255], [255, 255, 255], [255, 255,...   \n",
       "2  1062.jpg     V  [[[255, 255, 255], [255, 255, 255], [255, 255,...   \n",
       "3  1699.jpg     V  [[[254, 254, 254], [255, 255, 255], [253, 253,...   \n",
       "4  1685.jpg     Z  [[[255, 255, 255], [255, 255, 255], [255, 255,...   \n",
       "\n",
       "                                  preprocessed_image  \n",
       "0  [[[1.0], [1.0], [1.0], [1.0], [1.0], [1.0], [1...  \n",
       "1  [[[1.0], [1.0], [1.0], [1.0], [1.0], [1.0], [1...  \n",
       "2  [[[1.0], [1.0], [1.0], [1.0], [1.0], [1.0], [1...  \n",
       "3  [[[0.89411765], [0.99607843], [1.0], [1.0], [1...  \n",
       "4  [[[1.0], [1.0], [1.0], [1.0], [1.0], [1.0], [1...  "
      ]
     },
     "execution_count": 42,
     "metadata": {},
     "output_type": "execute_result"
    }
   ],
   "source": [
    "test_meta_data['preprocessed_image'] = preprocessed_image_list\n",
    "test_meta_data.head()"
   ]
  },
  {
   "cell_type": "code",
   "execution_count": 43,
   "id": "5bc3e5d2",
   "metadata": {},
   "outputs": [
    {
     "name": "stdout",
     "output_type": "stream",
     "text": [
      "232/232 - 1s - loss: 0.0306 - accuracy: 0.9960 - 784ms/epoch - 3ms/step\n"
     ]
    }
   ],
   "source": [
    "# evaluating the model\n",
    "\n",
    "loss, accuracy = model.evaluate(X_test, y_test, verbose=2)"
   ]
  },
  {
   "cell_type": "markdown",
   "id": "aa25b47b",
   "metadata": {},
   "source": [
    "## Model Performance Metrics"
   ]
  },
  {
   "cell_type": "code",
   "execution_count": 44,
   "id": "be451e82",
   "metadata": {},
   "outputs": [],
   "source": [
    "y_pred_prob = model.predict(X_test) # returns an array containing probability for each category being output\n",
    "y_pred = []\n",
    "for i in y_pred_prob:\n",
    "    out = np.argmax(i) # taking the highest probability category as output\n",
    "    y_pred.append(out)\n",
    "y_pred = np.array(y_pred)"
   ]
  },
  {
   "cell_type": "code",
   "execution_count": 45,
   "id": "1cb0f3c2",
   "metadata": {},
   "outputs": [
    {
     "name": "stdout",
     "output_type": "stream",
     "text": [
      "Accuracy :99.6%\n"
     ]
    }
   ],
   "source": [
    "# accuracy of the model\n",
    "\n",
    "print(f'Accuracy :{round(accuracy_score(y_test, y_pred),4)*100}%')"
   ]
  },
  {
   "cell_type": "code",
   "execution_count": 47,
   "id": "3e6d56e0",
   "metadata": {},
   "outputs": [
    {
     "name": "stdout",
     "output_type": "stream",
     "text": [
      "              precision    recall  f1-score   support\n",
      "\n",
      "           0       1.00      1.00      1.00       286\n",
      "           1       1.00      1.00      1.00       285\n",
      "           2       0.99      1.00      1.00       285\n",
      "           3       1.00      0.99      1.00       286\n",
      "           4       0.99      1.00      1.00       285\n",
      "           5       0.99      1.00      0.99       286\n",
      "           6       0.99      0.99      0.99       285\n",
      "           7       0.99      0.99      0.99       285\n",
      "           8       1.00      1.00      1.00       285\n",
      "           9       1.00      1.00      1.00       286\n",
      "          10       1.00      0.99      1.00       286\n",
      "          11       1.00      1.00      1.00       285\n",
      "          12       1.00      1.00      1.00       287\n",
      "          13       0.99      1.00      1.00       286\n",
      "          14       1.00      1.00      1.00       285\n",
      "          15       1.00      1.00      1.00       285\n",
      "          16       1.00      1.00      1.00       286\n",
      "          17       1.00      1.00      1.00       285\n",
      "          18       1.00      0.98      0.99       285\n",
      "          19       0.98      1.00      0.99       285\n",
      "          20       0.99      1.00      0.99       285\n",
      "          21       1.00      0.98      0.99       285\n",
      "          22       0.98      1.00      0.99       285\n",
      "          23       1.00      1.00      1.00       286\n",
      "          24       1.00      1.00      1.00       285\n",
      "          25       1.00      1.00      1.00       285\n",
      "\n",
      "    accuracy                           1.00      7420\n",
      "   macro avg       1.00      1.00      1.00      7420\n",
      "weighted avg       1.00      1.00      1.00      7420\n",
      "\n"
     ]
    }
   ],
   "source": [
    "# classification report\n",
    "\n",
    "print(classification_report(y_test, y_pred))"
   ]
  },
  {
   "cell_type": "code",
   "execution_count": 48,
   "id": "0f12284e",
   "metadata": {},
   "outputs": [
    {
     "name": "stderr",
     "output_type": "stream",
     "text": [
      "<ipython-input-48-4b51091179d5>:7: MatplotlibDeprecationWarning: Case-insensitive properties were deprecated in 3.3 and support will be removed two minor releases later\n",
      "  plt.title('Confusion Matrix', Fontsize=40)\n"
     ]
    },
    {
     "data": {
      "image/png": "[encoded data removed]",
      "text/plain": [
       "<Figure size 1728x1440 with 2 Axes>"
      ]
     },
     "metadata": {
      "needs_background": "light"
     },
     "output_type": "display_data"
    }
   ],
   "source": [
    "# confusion matrix\n",
    "\n",
    "cm = confusion_matrix(y_test, y_pred)\n",
    "\n",
    "# heatmap of confusion matrix\n",
    "plt.figure(figsize=(24,20))\n",
    "plt.title('Confusion Matrix', Fontsize=40)\n",
    "sns.heatmap(cm, xticklabels=labels, yticklabels=labels, cmap='rocket_r', linecolor='white', linewidth=0.005, annot=True, fmt='d')\n",
    "plt.xlabel('Predicted Sign', fontsize=30)\n",
    "plt.ylabel('True Sign', fontsize=30)\n",
    "plt.show()"
   ]
  },
  {
   "cell_type": "markdown",
   "id": "a8036b76",
   "metadata": {},
   "source": [
    "## Saving the model for future use"
   ]
  },
  {
   "cell_type": "code",
   "execution_count": 49,
   "id": "574ccad1",
   "metadata": {},
   "outputs": [],
   "source": [
    "# saving the model\n",
    "\n",
    "model.save('gaussian_data_sign_lang_detect_model.h5')"
   ]
  },
  {
   "cell_type": "markdown",
   "id": "977f4e34",
   "metadata": {},
   "source": [
    "## Loading the model and predicting using the model"
   ]
  },
  {
   "cell_type": "code",
   "execution_count": 58,
   "id": "ae50c94a",
   "metadata": {},
   "outputs": [],
   "source": [
    "# loading the model \n",
    "\n",
    "model = load_model('gaussian_data_sign_lang_detect_model.h5')"
   ]
  },
  {
   "cell_type": "code",
   "execution_count": 59,
   "id": "48981507",
   "metadata": {},
   "outputs": [],
   "source": [
    "# function that preprocesses the data\n",
    "\n",
    "def preprocess_image(image):\n",
    "    \"\"\"Takes in image array as input and returns resized and scaled image\"\"\"\n",
    "    image = cv2.resize(image, (64,64))\n",
    "    image = cv2.cvtColor(image, cv2.COLOR_BGR2GRAY)\n",
    "    image = image.reshape(64,64,1)\n",
    "    image = image.astype('float32')/255.0\n",
    "    return image"
   ]
  },
  {
   "cell_type": "code",
   "execution_count": 60,
   "id": "7868b8e6",
   "metadata": {},
   "outputs": [],
   "source": [
    "# function that classifies image to detect sign\n",
    "\n",
    "def classify(image):\n",
    "    \"\"\"\n",
    "    takes image array as input and returns class of the output\n",
    "    note: returns '' for 'nothing' and 'space' labels\n",
    "    \"\"\"\n",
    "    image = preprocess_image(image)\n",
    "    image = image.reshape(1,64,64,1)\n",
    "    pred = model.predict([image])\n",
    "    idx = np.argmax(pred)\n",
    "    if idx == 26 or idx==27:\n",
    "        return \"\"\n",
    "    elif idx == 28:\n",
    "        return \" \"\n",
    "    else:\n",
    "        return labels[idx]"
   ]
  },
  {
   "cell_type": "code",
   "execution_count": 61,
   "id": "a3409c83",
   "metadata": {},
   "outputs": [],
   "source": [
    "# labels\n",
    "\n",
    "labels = ['A', 'B', 'C', 'D', 'E', 'F', 'G', 'H', 'I', 'J', 'K', 'L', 'M', 'N', 'O', 'P', 'Q', 'R', 'S', 'T', 'U', 'V', 'W', 'X', 'Y', 'Z', 'del', 'nothing', 'space']"
   ]
  },
  {
   "cell_type": "code",
   "execution_count": 68,
   "id": "23b39e4d",
   "metadata": {},
   "outputs": [
    {
     "data": {
      "text/plain": [
       "'H'"
      ]
     },
     "execution_count": 68,
     "metadata": {},
     "output_type": "execute_result"
    }
   ],
   "source": [
    "# taking image as input and classifying it\n",
    "\n",
    "test_image1 = cv2.imread(r'C:\\Users\\dariu\\Jupyter_Notebook\\Sign Language Detection\\Gaussian_dataset\\test\\H\\5.jpg')\n",
    "classify(test_image1)"
   ]
  },
  {
   "cell_type": "code",
   "execution_count": 69,
   "id": "839ba52a",
   "metadata": {},
   "outputs": [
    {
     "data": {
      "text/plain": [
       "<matplotlib.image.AxesImage at 0x184400ce1c0>"
      ]
     },
     "execution_count": 69,
     "metadata": {},
     "output_type": "execute_result"
    },
    {
     "data": {
      "image/png": "[encoded data removed]",
      "text/plain": [
       "<Figure size 432x288 with 1 Axes>"
      ]
     },
     "metadata": {
      "needs_background": "light"
     },
     "output_type": "display_data"
    }
   ],
   "source": [
    "# image\n",
    "\n",
    "plt.imshow(test_image1)"
   ]
  },
  {
   "cell_type": "code",
   "execution_count": 66,
   "id": "28f20f9d",
   "metadata": {},
   "outputs": [
    {
     "data": {
      "text/plain": [
       "'L'"
      ]
     },
     "execution_count": 66,
     "metadata": {},
     "output_type": "execute_result"
    }
   ],
   "source": [
    "# taking image as input and classifying it\n",
    "\n",
    "test_image2 = cv2.imread(r'C:\\Users\\dariu\\Jupyter_Notebook\\Sign Language Detection\\Gaussian_dataset\\test\\L\\5.jpg')\n",
    "classify(test_image2)"
   ]
  },
  {
   "cell_type": "code",
   "execution_count": 67,
   "id": "499eed7e",
   "metadata": {},
   "outputs": [
    {
     "data": {
      "text/plain": [
       "<matplotlib.image.AxesImage at 0x1844006dd60>"
      ]
     },
     "execution_count": 67,
     "metadata": {},
     "output_type": "execute_result"
    },
    {
     "data": {
      "image/png": "[encoded data removed]",
      "text/plain": [
       "<Figure size 432x288 with 1 Axes>"
      ]
     },
     "metadata": {
      "needs_background": "light"
     },
     "output_type": "display_data"
    }
   ],
   "source": [
    "# image\n",
    "\n",
    "plt.imshow(test_image2)"
   ]
  },
  {
   "cell_type": "markdown",
   "id": "b5fa69e0",
   "metadata": {},
   "source": [
    "## Real-time sign language detection"
   ]
  },
  {
   "cell_type": "code",
   "execution_count": 58,
   "id": "76bdd9df",
   "metadata": {},
   "outputs": [],
   "source": [
    "# sign language detection on live video\n",
    "\n",
    "cap = cv2.VideoCapture(0) # 1 for second webcam, use 0 if you have only one webcame\n",
    "\n",
    "while True:\n",
    "    ret, frame = cap.read()\n",
    "    \n",
    "    # sign language guide\n",
    "    image2 = cv2.imread('ASL Sign Language.png')\n",
    "    image2 = cv2.resize(image2,(1400,800))\n",
    "    cv2.imshow('Guide', image2)\n",
    "    \n",
    "    frame = cv2.flip(frame, 1)\n",
    "    top, right, bottom, left = 75, 350, 300, 590\n",
    "    sign = frame[top:bottom, right:left]\n",
    "    sign=cv2.flip(sign,1)\n",
    "    cv2.imshow('Sign',sign)  # classification window\n",
    "    alpha=classify(sign)  # classifying frame\n",
    "    cv2.rectangle(frame, (left, top), (right, bottom), (0,255,255), 2) # creating classification box\n",
    "    font=cv2.FONT_HERSHEY_SIMPLEX \n",
    "    cv2.putText(frame,alpha,(0,130),font,5,(0,0,255),2) # adding text output \n",
    "    cv2.imshow('img',frame)\n",
    "    \n",
    "    if cv2.waitKey(1) & 0xFF==ord('q'): # press q to stop capture\n",
    "        break\n",
    "cap.release()\n",
    "cv2.destroyAllWindows()"
   ]
  },
  {
   "cell_type": "markdown",
   "id": "26b4d773",
   "metadata": {},
   "source": [
    "## Real time word and sentence detection"
   ]
  },
  {
   "cell_type": "code",
   "execution_count": 59,
   "id": "688aa549",
   "metadata": {},
   "outputs": [
    {
     "name": "stdout",
     "output_type": "stream",
     "text": [
      "\n"
     ]
    }
   ],
   "source": [
    "# sign language detection on live video\n",
    "\n",
    "cap = cv2.VideoCapture(0) # 1 for second webcam, use 0 if you have only one webcame\n",
    "\n",
    "i = 0\n",
    "last_frame_alpha = None\n",
    "sentence_list = []\n",
    "sentence = ''\n",
    "\n",
    "while True:\n",
    "    ret, frame = cap.read()\n",
    "    \n",
    "    if ret==False:\n",
    "        cap.release()\n",
    "        break\n",
    "    else:\n",
    "        # sign language guide\n",
    "        image2 = cv2.imread('ASL Sign Language.png')\n",
    "        image2 = cv2.resize(image2,(1400,800))\n",
    "        cv2.imshow('Guide', image2)\n",
    "\n",
    "        frame = cv2.flip(frame, 1)\n",
    "        top, right, bottom, left = 75, 350, 300, 590\n",
    "        roi = frame[top:bottom, right:left]  # region of intrest\n",
    "        roi=cv2.flip(roi,1)\n",
    "\n",
    "        alpha=classify(roi)  # classifying frame\n",
    "        cv2.rectangle(frame, (left, top), (right, bottom), (0,255,255), 2) # creating classification box\n",
    "        font=cv2.FONT_HERSHEY_SIMPLEX \n",
    "        cv2.putText(frame,alpha,(0,130),font,5,(0,0,255),2) # adding text output \n",
    "        cv2.imshow('img',frame)\n",
    "\n",
    "\n",
    "        if last_frame_alpha==alpha:\n",
    "            i+=1\n",
    "        else:\n",
    "            i=0\n",
    "\n",
    "        if i>30 and alpha!=\"\":\n",
    "            print(alpha)\n",
    "            sentence_list.append(alpha)\n",
    "            sentence = \"\".join(sentence_list)\n",
    "            i=0\n",
    "\n",
    "        last_frame_alpha = alpha\n",
    "\n",
    "        text_window = np.zeros((512, 512, 1), dtype = \"uint8\")\n",
    "        text_window = cv2.resize(text_window, (1400, 220))\n",
    "        cv2.putText(text_window, sentence,(0,130),font,3,(255,255,255),2)\n",
    "        cv2.imshow('Text', text_window)\n",
    "\n",
    "        if cv2.waitKey(1) & 0xFF==ord('q'): # press q to stop capture\n",
    "            cap.release()\n",
    "            break\n",
    "\n",
    "cv2.destroyAllWindows()\n",
    "print(\"\".join(sentence_list))"
   ]
  },
  {
   "cell_type": "markdown",
   "id": "126205d5",
   "metadata": {},
   "source": [
    "## Real time word and sentence detection with option to star/stop detection using 'space' key"
   ]
  },
  {
   "cell_type": "code",
   "execution_count": 71,
   "id": "27dc3805",
   "metadata": {},
   "outputs": [
    {
     "name": "stdout",
     "output_type": "stream",
     "text": [
      "A\n",
      "A\n",
      "M\n",
      "AAM\n"
     ]
    }
   ],
   "source": [
    "# sign language detection on live video\n",
    "\n",
    "cap = cv2.VideoCapture(0) # 1 for second webcam, use 0 if you have only one webcame\n",
    "\n",
    "i = 0\n",
    "last_frame_alpha = None\n",
    "sentence_list = []\n",
    "sentence = ''\n",
    "detect=False\n",
    "\n",
    "while True:\n",
    "    ret, frame = cap.read()\n",
    "    \n",
    "    if cv2.waitKey(1) & 0xFF==ord(' '):\n",
    "        detect = not detect\n",
    "    \n",
    "    if ret==False:\n",
    "        cap.release()\n",
    "        break\n",
    "    else:\n",
    "        if not detect:\n",
    "            frame = cv2.flip(frame,1)\n",
    "            cv2.imshow('img',frame)\n",
    "        else:\n",
    "            # sign language guide\n",
    "            image2 = cv2.imread('ASL Sign Language.png')\n",
    "            image2 = cv2.resize(image2,(1400,800))\n",
    "            cv2.imshow('Guide', image2)\n",
    "\n",
    "            frame = cv2.flip(frame, 1)\n",
    "            top, right, bottom, left = 75, 350, 300, 590\n",
    "            roi = frame[top:bottom, right:left]  # region of intrest\n",
    "            roi=cv2.flip(roi,1)\n",
    "\n",
    "            if cv2.waitKey(1) & 0xFF==ord(' '):\n",
    "                detect=not detect\n",
    "\n",
    "            alpha=classify(roi)  # classifying frame\n",
    "            cv2.rectangle(frame, (left, top), (right, bottom), (0,255,255), 2) # creating classification box\n",
    "            font=cv2.FONT_HERSHEY_SIMPLEX \n",
    "            cv2.putText(frame,alpha,(0,130),font,5,(0,0,255),2) # adding text output \n",
    "            cv2.imshow('img',frame)\n",
    "\n",
    "\n",
    "            if last_frame_alpha==alpha:\n",
    "                i+=1\n",
    "            else:\n",
    "                i=0\n",
    "\n",
    "            if i>30 and alpha!=\"\":\n",
    "                print(alpha)\n",
    "                sentence_list.append(alpha)\n",
    "                sentence = \"\".join(sentence_list)\n",
    "                i=0\n",
    "            last_frame_alpha = alpha\n",
    "\n",
    "            text_window = np.zeros((512, 512, 1), dtype = \"uint8\")\n",
    "            text_window = cv2.resize(text_window, (1400, 220))\n",
    "            cv2.putText(text_window, sentence,(0,130),font,3,(255,255,255),2)\n",
    "            cv2.imshow('Text', text_window)\n",
    "\n",
    "        if cv2.waitKey(1) & 0xFF==ord('q'): # press q to stop capture\n",
    "            cap.release()\n",
    "            break\n",
    "\n",
    "\n",
    "cv2.destroyAllWindows() \n",
    "print(\"\".join(sentence_list))"
   ]
  },
  {
   "cell_type": "markdown",
   "id": "06b94c6b",
   "metadata": {},
   "source": [
    "## Sign language Detection with the ability to save frames to folder in directory"
   ]
  },
  {
   "cell_type": "markdown",
   "id": "3ffec410",
   "metadata": {},
   "source": [
    "__Create an empty folder in directory called saved_frames.__"
   ]
  },
  {
   "cell_type": "code",
   "execution_count": 70,
   "id": "4014e338",
   "metadata": {
    "scrolled": true
   },
   "outputs": [
    {
     "name": "stdout",
     "output_type": "stream",
     "text": [
      "D\n",
      "A\n",
      "A\n",
      "A\n",
      "A\n",
      "A\n",
      "A\n",
      "A\n",
      "A\n",
      "A\n",
      "M\n",
      "A\n",
      "A\n",
      "N\n",
      "DAAAAAAAAAMAAN\n"
     ]
    }
   ],
   "source": [
    "# sign language detection on live video\n",
    "\n",
    "cap = cv2.VideoCapture(0) # 1 for second webcam, use 0 if you have only one webcame\n",
    "sentence = \"\"\n",
    "\n",
    "i = 0\n",
    "last_frame_alpha = None\n",
    "sentence_list = []\n",
    "sentence = ''\n",
    "\n",
    "while True:\n",
    "    ret, frame = cap.read()\n",
    "    \n",
    "    if ret==False:\n",
    "        cap.release()\n",
    "        break\n",
    "    else:\n",
    "        # sign language guide\n",
    "        image2 = cv2.imread('ASL Sign Language.png')\n",
    "        image2 = cv2.resize(image2,(1400,800))\n",
    "        cv2.imshow('Guide', image2)\n",
    "\n",
    "        frame = cv2.flip(frame, 1)\n",
    "        top, right, bottom, left = 75, 350, 300, 590\n",
    "        roi = frame[top:bottom, right:left]  # region of intrest\n",
    "        roi=cv2.flip(roi,1)\n",
    "        cv2.rectangle(frame, (left, top), (right, bottom), (0,255,255), 2) # creating classification box\n",
    "        cv2.imshow('img',frame)\n",
    "        \n",
    "        if cv2.waitKey(1) & 0xFF==ord(' '):\n",
    "            i += 1\n",
    "            alpha=classify(roi)  # classifying frame\n",
    "            # cv2.rectangle(frame, (left, top), (right, bottom), (0,255,255), 2) # creating classification box\n",
    "            font=cv2.FONT_HERSHEY_SIMPLEX \n",
    "            cv2.putText(frame,alpha,(0,130),font,5,(0,0,255),2) # adding text output \n",
    "            cv2.imshow('img',frame)\n",
    "            cv2.imwrite(f'saved_frames\\\\{i}_{alpha}.jpg', frame)\n",
    "\n",
    "\n",
    "            if alpha!=\"\":\n",
    "                print(alpha)\n",
    "                sentence_list.append(alpha)\n",
    "                sentence = \"\".join(sentence_list)\n",
    "                \n",
    "\n",
    "        font=cv2.FONT_HERSHEY_SIMPLEX\n",
    "        text_window = np.zeros((512, 512, 1), dtype = \"uint8\")\n",
    "        text_window = cv2.resize(text_window, (1400, 220))\n",
    "        cv2.putText(text_window, sentence,(0,130),font,3,(255,255,255),2)\n",
    "        cv2.imshow('Text', text_window)\n",
    "\n",
    "        if cv2.waitKey(1) & 0xFF==ord('q'): # press q to stop capture\n",
    "            cap.release()\n",
    "            break\n",
    "\n",
    "cv2.destroyAllWindows()\n",
    "print(\"\".join(sentence_list))"
   ]
  },
  {
   "cell_type": "code",
   "execution_count": null,
   "id": "8dfa2e4b",
   "metadata": {},
   "outputs": [],
   "source": []
  }
 ],
 "metadata": {
  "kernelspec": {
   "display_name": "Python 3",
   "language": "python",
   "name": "python3"
  },
  "language_info": {
   "codemirror_mode": {
    "name": "ipython",
    "version": 3
   },
   "file_extension": ".py",
   "mimetype": "text/x-python",
   "name": "python",
   "nbconvert_exporter": "python",
   "pygments_lexer": "ipython3",
   "version": "3.8.8"
  }
 },
 "nbformat": 4,
 "nbformat_minor": 5
}
